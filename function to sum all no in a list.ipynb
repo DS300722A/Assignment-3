{
 "cells": [
  {
   "cell_type": "markdown",
   "id": "4857dd1f",
   "metadata": {},
   "source": [
    "# Write a Python function to sum all the numbers in a list.\n",
    "\n",
    "#Sample List : (8, 2, 3, 0, 7)\n",
    "\n",
    "#Expected Output : 20\n",
    "\n",
    "\n",
    "\n",
    "\n",
    "\n"
   ]
  },
  {
   "cell_type": "code",
   "execution_count": 9,
   "id": "a1ea98a8",
   "metadata": {},
   "outputs": [
    {
     "name": "stdout",
     "output_type": "stream",
     "text": [
      "The sum of all numbers in alist is  8\n"
     ]
    }
   ],
   "source": [
    "def sum(numbers):\n",
    "    total = 0 \n",
    "    for x in numbers: \n",
    "        total=total+x \n",
    "        return total \n",
    "print(\"The sum of all numbers in a list is \",sum((8, 2, 3, 0, 7)))"
   ]
  },
  {
   "cell_type": "code",
   "execution_count": null,
   "id": "ed81d2f8",
   "metadata": {},
   "outputs": [],
   "source": []
  }
 ],
 "metadata": {
  "kernelspec": {
   "display_name": "Python 3 (ipykernel)",
   "language": "python",
   "name": "python3"
  },
  "language_info": {
   "codemirror_mode": {
    "name": "ipython",
    "version": 3
   },
   "file_extension": ".py",
   "mimetype": "text/x-python",
   "name": "python",
   "nbconvert_exporter": "python",
   "pygments_lexer": "ipython3",
   "version": "3.9.12"
  }
 },
 "nbformat": 4,
 "nbformat_minor": 5
}
