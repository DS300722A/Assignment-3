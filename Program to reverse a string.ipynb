{
 "cells": [
  {
   "cell_type": "markdown",
   "id": "6c6c22d2",
   "metadata": {},
   "source": [
    "# Write a Python program to reverse a string.\n",
    "\n",
    "\n",
    "\n",
    "﻿Sample String : \"1234abcd\"\n",
    "\n",
    "Expected Output : \"dcba4321\""
   ]
  },
  {
   "cell_type": "code",
   "execution_count": 4,
   "id": "84193bb5",
   "metadata": {},
   "outputs": [
    {
     "name": "stdout",
     "output_type": "stream",
     "text": [
      "enter string :1234abcd\n",
      "The reversed string is  dcba4321\n"
     ]
    }
   ],
   "source": [
    "def rev():\n",
    "    s=input(\"enter string :\")\n",
    "    for i in range(len(s)):\n",
    "        y=s[::-1]\n",
    "        return y\n",
    "\n",
    "\n",
    "    \n",
    "print(\"The reversed string is \",rev())"
   ]
  },
  {
   "cell_type": "code",
   "execution_count": null,
   "id": "6237a535",
   "metadata": {},
   "outputs": [],
   "source": []
  }
 ],
 "metadata": {
  "kernelspec": {
   "display_name": "Python 3 (ipykernel)",
   "language": "python",
   "name": "python3"
  },
  "language_info": {
   "codemirror_mode": {
    "name": "ipython",
    "version": 3
   },
   "file_extension": ".py",
   "mimetype": "text/x-python",
   "name": "python",
   "nbconvert_exporter": "python",
   "pygments_lexer": "ipython3",
   "version": "3.9.12"
  }
 },
 "nbformat": 4,
 "nbformat_minor": 5
}
